{
  "cells": [
    {
      "cell_type": "code",
      "execution_count": 1,
      "metadata": {
        "id": "OMYePqq6rrkl"
      },
      "outputs": [],
      "source": [
        "import torch\n",
        "import torch.nn as nn\n",
        "import torch.nn.functional as F\n",
        "import torchvision\n",
        "import torchvision.transforms as transforms\n",
        "import numpy as np\n",
        "import matplotlib.pyplot as plt\n",
        "from torchvision import utils\n",
        "device = torch.device(\"cuda:0\" if torch.cuda.is_available() else \"cpu\")"
      ]
    },
    {
      "cell_type": "code",
      "execution_count": 2,
      "metadata": {
        "id": "ouxSH9pxsNJC"
      },
      "outputs": [],
      "source": [
        "\n",
        "class ConvNet(nn.Module):\n",
        "    def __init__(self, num_classes=10):\n",
        "        super(ConvNet, self).__init__()\n",
        "        self.layer1 = nn.Sequential(\n",
        "            nn.Conv2d(1, 25, kernel_size=12),\n",
        "            nn.BatchNorm2d(25),\n",
        "            nn.ReLU(),\n",
        "            nn.MaxPool2d(kernel_size=2, stride=2))\n",
        "        self.layer2 = nn.Sequential(\n",
        "            nn.Conv2d(25, 64, kernel_size=5, stride=1, padding=2),\n",
        "            nn.BatchNorm2d(64),\n",
        "            nn.ReLU(),\n",
        "            nn.MaxPool2d(kernel_size=2, stride=2))\n",
        "        \n",
        "        self.fc1 = nn.Linear(4 * 4 * 64, 1024)\n",
        "        self.fc2 = nn.Linear(1024, num_classes)\n",
        "        self.type = 'CNN'\n",
        "\n",
        "    def forward(self, x):\n",
        "        out = self.layer1(x)\n",
        "        out = self.layer2(out)\n",
        "        out = out.reshape(out.size(0), -1)\n",
        "        out = self.fc1(out)\n",
        "        out = F.relu(out)\n",
        "        out = self.fc2(out)\n",
        "\n",
        "        return out\n"
      ]
    },
    {
      "cell_type": "code",
      "execution_count": 3,
      "metadata": {
        "id": "-8EKCyzBrzW-"
      },
      "outputs": [],
      "source": [
        "def create_dataloader():\n",
        "    # MNIST dataset\n",
        "    train_dataset = torchvision.datasets.MNIST(root='data',\n",
        "                                               train=True,\n",
        "                                               download=True,\n",
        "                                               transform=transforms.ToTensor())\n",
        "\n",
        "    test_dataset = torchvision.datasets.MNIST(root='data',\n",
        "                                              train=False,\n",
        "                                              download=True,\n",
        "                                              transform=transforms.ToTensor())\n",
        "\n",
        "    # Data loader\n",
        "    train_loader = torch.utils.data.DataLoader(dataset=train_dataset,\n",
        "                                               batch_size=64,\n",
        "                                               shuffle=True)\n",
        "\n",
        "    test_loader = torch.utils.data.DataLoader(dataset=test_dataset,\n",
        "                                              batch_size=64,\n",
        "                                              shuffle=False)\n",
        "\n",
        "    return train_loader, test_loader"
      ]
    },
    {
      "cell_type": "code",
      "execution_count": 4,
      "metadata": {
        "id": "aG40otrIr-Bp"
      },
      "outputs": [],
      "source": [
        "def train(train_loader, model, criterion, optimizer, num_epochs):\n",
        "    # Train the model\n",
        "    total_step = len(train_loader)\n",
        "    for epoch in range(num_epochs):\n",
        "        for step, (images, labels) in enumerate(train_loader):\n",
        "            images = images.to(device)\n",
        "            labels = labels.to(device)\n",
        "            if model.type == 'MLP':\n",
        "                images = images.reshape(-1, 28 * 28)\n",
        "\n",
        "            # Forward pass\n",
        "            outputs = model(images)\n",
        "            loss = criterion(outputs, labels)\n",
        "\n",
        "            # Backward and optimize\n",
        "            optimizer.zero_grad()\n",
        "            loss.backward()\n",
        "            optimizer.step()\n",
        "\n",
        "            if (step + 1) % 100 == 0:\n",
        "                print('Epoch [{}/{}], Step [{}/{}], Loss: {:.4f}'\n",
        "                      .format(epoch + 1, num_epochs, step + 1, total_step, loss.item()))"
      ]
    },
    {
      "cell_type": "code",
      "execution_count": 5,
      "metadata": {
        "id": "kzgdAXdLsEhO"
      },
      "outputs": [],
      "source": [
        "def test(test_loader, model):\n",
        "    # Test the model\n",
        "    with torch.no_grad():\n",
        "        correct = 0\n",
        "        total = 0\n",
        "        for images, labels in test_loader:\n",
        "            images = images.to(device)\n",
        "            labels = labels.to(device)\n",
        "            if model.type == 'MLP':\n",
        "                images = images.reshape(-1, 28 * 28)\n",
        "            \n",
        "            outputs = model(images)\n",
        "            _, predicted = torch.max(outputs.data, 1)\n",
        "            total += labels.size(0)\n",
        "            correct += (predicted == labels).sum().item()\n",
        "\n",
        "        print('Accuracy of the network on the 10000 test images: {} %'.format(100 * correct / total))"
      ]
    },
    {
      "cell_type": "code",
      "execution_count": 6,
      "metadata": {
        "id": "WBn3QOEREpB2"
      },
      "outputs": [],
      "source": [
        "\n",
        "\n",
        "def visTensor(tensor, ch=0, allkernels=False, nrow=5, padding=1): \n",
        "    n,c,w,h = tensor.shape\n",
        "\n",
        "    if allkernels: tensor = tensor.view(n*c, -1, w, h)\n",
        "    elif c != 3: tensor = tensor[:,ch,:,:].unsqueeze(dim=1)\n",
        "\n",
        "    rows = np.min((tensor.shape[0] // nrow + 1, 64))    \n",
        "    grid = utils.make_grid(tensor, nrow=nrow, normalize=True, padding=padding)\n",
        "    plt.figure( figsize=(nrow,rows) )\n",
        "    plt.imshow(grid.numpy().transpose((1, 2, 0)))"
      ]
    },
    {
      "cell_type": "code",
      "execution_count": 7,
      "metadata": {
        "colab": {
          "base_uri": "https://localhost:8080/",
          "height": 1000
        },
        "id": "N_k-KPOQsGs2",
        "outputId": "ee57e935-6a9b-4ad0-b75c-b0fa4c3dc0db"
      },
      "outputs": [
        {
          "name": "stdout",
          "output_type": "stream",
          "text": [
            "Epoch [1/5], Step [100/938], Loss: 0.4132\n",
            "Epoch [1/5], Step [200/938], Loss: 0.2820\n",
            "Epoch [1/5], Step [300/938], Loss: 0.1508\n",
            "Epoch [1/5], Step [400/938], Loss: 0.1833\n",
            "Epoch [1/5], Step [500/938], Loss: 0.0834\n",
            "Epoch [1/5], Step [600/938], Loss: 0.2059\n",
            "Epoch [1/5], Step [700/938], Loss: 0.1215\n",
            "Epoch [1/5], Step [800/938], Loss: 0.1454\n",
            "Epoch [1/5], Step [900/938], Loss: 0.0294\n",
            "Epoch [2/5], Step [100/938], Loss: 0.1506\n",
            "Epoch [2/5], Step [200/938], Loss: 0.0649\n",
            "Epoch [2/5], Step [300/938], Loss: 0.0760\n",
            "Epoch [2/5], Step [400/938], Loss: 0.1031\n",
            "Epoch [2/5], Step [500/938], Loss: 0.0455\n",
            "Epoch [2/5], Step [600/938], Loss: 0.0477\n",
            "Epoch [2/5], Step [700/938], Loss: 0.0169\n",
            "Epoch [2/5], Step [800/938], Loss: 0.1452\n",
            "Epoch [2/5], Step [900/938], Loss: 0.0125\n",
            "Epoch [3/5], Step [100/938], Loss: 0.0563\n",
            "Epoch [3/5], Step [200/938], Loss: 0.0785\n",
            "Epoch [3/5], Step [300/938], Loss: 0.0127\n",
            "Epoch [3/5], Step [400/938], Loss: 0.0173\n",
            "Epoch [3/5], Step [500/938], Loss: 0.0149\n",
            "Epoch [3/5], Step [600/938], Loss: 0.0162\n",
            "Epoch [3/5], Step [700/938], Loss: 0.0170\n",
            "Epoch [3/5], Step [800/938], Loss: 0.0893\n",
            "Epoch [3/5], Step [900/938], Loss: 0.0458\n",
            "Epoch [4/5], Step [100/938], Loss: 0.0075\n",
            "Epoch [4/5], Step [200/938], Loss: 0.0016\n",
            "Epoch [4/5], Step [300/938], Loss: 0.0174\n",
            "Epoch [4/5], Step [400/938], Loss: 0.0110\n",
            "Epoch [4/5], Step [500/938], Loss: 0.0111\n",
            "Epoch [4/5], Step [600/938], Loss: 0.0320\n",
            "Epoch [4/5], Step [700/938], Loss: 0.0098\n",
            "Epoch [4/5], Step [800/938], Loss: 0.0094\n",
            "Epoch [4/5], Step [900/938], Loss: 0.0341\n",
            "Epoch [5/5], Step [100/938], Loss: 0.0607\n",
            "Epoch [5/5], Step [200/938], Loss: 0.0050\n",
            "Epoch [5/5], Step [300/938], Loss: 0.0206\n",
            "Epoch [5/5], Step [400/938], Loss: 0.0066\n",
            "Epoch [5/5], Step [500/938], Loss: 0.0176\n",
            "Epoch [5/5], Step [600/938], Loss: 0.0234\n",
            "Epoch [5/5], Step [700/938], Loss: 0.0039\n",
            "Epoch [5/5], Step [800/938], Loss: 0.0110\n",
            "Epoch [5/5], Step [900/938], Loss: 0.0163\n",
            "Accuracy of the network on the 10000 test images: 98.8 %\n"
          ]
        },
        {
          "data": {
            "image/png": "[encoded data removed]",
            "text/plain": [
              "<Figure size 360x432 with 1 Axes>"
            ]
          },
          "metadata": {
            "needs_background": "light"
          },
          "output_type": "display_data"
        }
      ],
      "source": [
        "if __name__ == '__main__':\n",
        "    train_loader, test_loader = create_dataloader()\n",
        "\n",
        "    model = ConvNet()\n",
        "\n",
        "    model.to(device)\n",
        "\n",
        "\n",
        "    criterion = nn.CrossEntropyLoss()\n",
        "    optimizer = torch.optim.Adam(model.parameters(), lr=1e-4)\n",
        "    train(train_loader, model, criterion, optimizer, num_epochs=5)\n",
        "    test(test_loader, model)\n",
        "    filter = model.layer1[0].weight.data.cpu().clone()\n",
        "    visTensor(filter, ch=0, allkernels=False)"
      ]
    }
  ],
  "metadata": {
    "accelerator": "GPU",
    "colab": {
      "collapsed_sections": [],
      "provenance": []
    },
    "kernelspec": {
      "display_name": "Python 3.9.13 ('comp5434')",
      "language": "python",
      "name": "python3"
    },
    "language_info": {
      "name": "python",
      "version": "3.9.13"
    },
    "vscode": {
      "interpreter": {
        "hash": "43576f94b435c1f791b84f0bfcce0f95565f17f396ab492f9028cbe60d7cf463"
      }
    }
  },
  "nbformat": 4,
  "nbformat_minor": 0
}
