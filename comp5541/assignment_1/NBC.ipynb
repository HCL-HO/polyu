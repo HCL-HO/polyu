{
 "cells": [
  {
   "cell_type": "code",
   "execution_count": 1,
   "metadata": {},
   "outputs": [],
   "source": [
    "import numpy as np\n",
    "from abc import ABC, abstractmethod\n",
    "\n",
    "\n",
    "\n",
    "class Model(ABC):\n",
    "    \n",
    "    def score(self, y_test, predictions):\n",
    "        return np.mean(y_test == predictions)\n",
    "            \n",
    "\n",
    "class NBC(Model):\n",
    "    def __init__(self, feature_types:list, num_classes:int):\n",
    "        self.feature_types = feature_types\n",
    "        self.num_classes = num_classes\n",
    "        self.classes = []\n",
    "        self.__mean = self.__var = np.zeros((self.num_classes, len(self.feature_types)), dtype=np.float64)\n",
    "        self.__priors = np.zeros(self.num_classes, dtype=np.float64)\n",
    "        \n",
    "    def fit(self, Xtrain, Ytrain):\n",
    "        num_samples, _ = Xtrain.shape\n",
    "        self.classes = np.unique(Ytrain)\n",
    "        for i, classificate in enumerate(self.classes):\n",
    "            X_classified = Xtrain[Ytrain == classificate]\n",
    "            self.__mean[i, :] = X_classified.mean(axis=0)\n",
    "            self.__var = X_classified.var(axis=0)\n",
    "            self.__priors[i] = X_classified.shape[0] / float(num_samples)\n",
    "    \n",
    "    def predict(self, Xtrain):\n",
    "        \n",
    "        predictions = []\n",
    "        \n",
    "        for x in Xtrain:\n",
    "        \n",
    "            posterior_prob: list = []\n",
    "\n",
    "            for i, classificate in enumerate(self.classes):\n",
    "                prior = np.log(self.__priors[i])\n",
    "\n",
    "                mean = self.__mean[i]\n",
    "                var = self.__var[i]\n",
    "                numerator = np.exp(- (x-mean)**2 / (2*var))\n",
    "                denominator = np.sqrt(2*np.pi*var)\n",
    "\n",
    "                posterior = np.sum(np.log(numerator/denominator))\n",
    "                posterior += prior\n",
    "                posterior_prob.append(posterior)\n",
    "                \n",
    "        \n",
    "            predictions.append(self.classes[np.argmax(posterior_prob)])\n",
    "        return np.array(predictions)"
   ]
  },
  {
   "cell_type": "code",
   "execution_count": 2,
   "metadata": {},
   "outputs": [],
   "source": [
    "from sklearn.datasets import load_iris\n",
    "from sklearn.metrics import confusion_matrix, ConfusionMatrixDisplay\n",
    "import matplotlib.pyplot as plt\n",
    "\n",
    "def train_test_split(X, y):\n",
    "    N, D = X.shape\n",
    "    Ntrain = int(0.8 * N)\n",
    "    shuffler = np.random.permutation(N)\n",
    "    Xtrain = X[shuffler[:Ntrain]]\n",
    "    ytrain = y[shuffler[:Ntrain]]\n",
    "    Xtest = X[shuffler[Ntrain:]]\n",
    "    ytest = y[shuffler[Ntrain:]]\n",
    "    \n",
    "    return Xtrain, Xtest, ytrain, ytest\n",
    "\n",
    "\n",
    "def main():\n",
    "    iris = load_iris()\n",
    "    X, y = iris['data'], iris['target']\n",
    "    Xtrain, Xtest, ytrain, ytest = train_test_split(X, y)\n",
    "    nbc = NBC(feature_types=['r','r','r','r'], num_classes=3)\n",
    "    nbc.fit(Xtrain, ytrain)\n",
    "    predictions = nbc.predict(Xtest)\n",
    "    print(\"NBC accuracy on Testing:\", nbc.score(ytest,predictions))\n",
    "    cm = confusion_matrix(ytest, predictions, labels=nbc.classes)\n",
    "    disp = ConfusionMatrixDisplay(confusion_matrix=cm,\n",
    "                               display_labels=nbc.classes)\n",
    "    disp.plot()\n",
    "    plt.show()"
   ]
  },
  {
   "cell_type": "code",
   "execution_count": 3,
   "metadata": {},
   "outputs": [
    {
     "name": "stdout",
     "output_type": "stream",
     "text": [
      "NBC accuracy on Testing: 0.9666666666666667\n"
     ]
    },
    {
     "data": {
      "image/png": "[encoded data removed]",
      "text/plain": [
       "<Figure size 432x288 with 2 Axes>"
      ]
     },
     "metadata": {
      "needs_background": "light"
     },
     "output_type": "display_data"
    }
   ],
   "source": [
    "if __name__ == \"__main__\":\n",
    "    main()"
   ]
  },
  {
   "cell_type": "markdown",
   "metadata": {},
   "source": [
    "\n"
   ]
  },
  {
   "cell_type": "code",
   "execution_count": null,
   "metadata": {},
   "outputs": [],
   "source": []
  },
  {
   "cell_type": "code",
   "execution_count": null,
   "metadata": {},
   "outputs": [],
   "source": []
  }
 ],
 "metadata": {
  "kernelspec": {
   "display_name": "Python 3",
   "language": "python",
   "name": "python3"
  },
  "language_info": {
   "codemirror_mode": {
    "name": "ipython",
    "version": 3
   },
   "file_extension": ".py",
   "mimetype": "text/x-python",
   "name": "python",
   "nbconvert_exporter": "python",
   "pygments_lexer": "ipython3",
   "version": "3.8.5"
  }
 },
 "nbformat": 4,
 "nbformat_minor": 4
}
