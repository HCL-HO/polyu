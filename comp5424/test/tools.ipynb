{
 "cells": [
  {
   "cell_type": "code",
   "execution_count": 11,
   "metadata": {},
   "outputs": [],
   "source": [
    "from PIL import Image\n",
    "import numpy as np"
   ]
  },
  {
   "cell_type": "code",
   "execution_count": 12,
   "metadata": {},
   "outputs": [],
   "source": [
    "import numpy as np\n",
    "\n",
    "def find_closest_palette_color(oldpixel):\n",
    "    return np.round(oldpixel)\n",
    "\n",
    "def floyd_steinberg(image):\n",
    "    # image: np.array of shape (height, width), dtype=float, 0.0-1.0\n",
    "    # works in-place!\n",
    "    h, w = image.shape\n",
    "    for y in range(h):\n",
    "        for x in range(w):\n",
    "            old = image[y, x]\n",
    "            new = find_closest_palette_color(old)\n",
    "            image[y, x] = new\n",
    "            error = old - new\n",
    "            \n",
    "            # precomputing the constants helps\n",
    "            if x + 1 < w:\n",
    "                image[y, x + 1] += error * (7/16) # right, 0.4375\n",
    "            if (y + 1 < h) and (x + 1 < w):\n",
    "                image[y + 1, x + 1] += error * (1/16) # right, down, 0.0625\n",
    "            if y + 1 < h:\n",
    "                image[y + 1, x] += error * (5/16) # down, 0.3125\n",
    "            if (x - 1 >= 0) and (y + 1 < h): \n",
    "                image[y + 1, x - 1] += error * (3/16) # left, down, 0.1875\n",
    "    return image"
   ]
  },
  {
   "cell_type": "code",
   "execution_count": 21,
   "metadata": {},
   "outputs": [
    {
     "name": "stdout",
     "output_type": "stream",
     "text": [
      "[[   1    2    3    4 3555]\n",
      " [   1    2    3    4    5]\n",
      " [   1    2    3    4    5]]\n",
      "\n",
      "Result:\n"
     ]
    },
    {
     "data": {
      "text/plain": [
       "array([[   1,    2,    3,    4, 3555],\n",
       "       [   1,    2,    3,    4,    5],\n",
       "       [   1,    2,    3,    4,    5]])"
      ]
     },
     "execution_count": 21,
     "metadata": {},
     "output_type": "execute_result"
    }
   ],
   "source": [
    "image = np.array([\n",
    "    [1,2,3,4,5],\n",
    "    [1,2,3,4,5],\n",
    "    [1,2,3,4,5]\n",
    "])\n",
    "\n",
    "# image = np.array(Image.open(\"Screenshot 2023-02-26 at 11.06.40 PM.png\").convert('L')) / 255\n",
    "print(image)\n",
    "\n",
    "print(\"\\nResult:\")\n",
    "result = floyd_steinberg(image)\n",
    "\n",
    "open(\"./new_image_result.txt\", mode='w+').write(result)"
   ]
  },
  {
   "cell_type": "code",
   "execution_count": null,
   "metadata": {},
   "outputs": [],
   "source": []
  }
 ],
 "metadata": {
  "kernelspec": {
   "display_name": "comp5523",
   "language": "python",
   "name": "python3"
  },
  "language_info": {
   "codemirror_mode": {
    "name": "ipython",
    "version": 3
   },
   "file_extension": ".py",
   "mimetype": "text/x-python",
   "name": "python",
   "nbconvert_exporter": "python",
   "pygments_lexer": "ipython3",
   "version": "3.10.9"
  },
  "orig_nbformat": 4
 },
 "nbformat": 4,
 "nbformat_minor": 2
}
